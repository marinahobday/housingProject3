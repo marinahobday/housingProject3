{
 "cells": [
  {
   "cell_type": "code",
   "execution_count": 4,
   "metadata": {},
   "outputs": [],
   "source": [
    "%matplotlib inline\n",
    "import matplotlib.pyplot as plt\n",
    "import numpy as np\n",
    "import pandas as pd"
   ]
  },
  {
   "cell_type": "code",
   "execution_count": 87,
   "metadata": {},
   "outputs": [],
   "source": [
    "from sklearn.datasets import make_regression\n",
    "from sklearn.datasets import make_blobs\n",
    "from sklearn.linear_model import LinearRegression\n",
    "from sklearn.metrics import mean_squared_error, r2_score\n",
    "\n",
    "from sklearn.model_selection import train_test_split\n",
    "from sklearn.linear_model import LogisticRegression"
   ]
  },
  {
   "cell_type": "code",
   "execution_count": 52,
   "metadata": {},
   "outputs": [
    {
     "data": {
      "text/html": [
       "<div>\n",
       "<style scoped>\n",
       "    .dataframe tbody tr th:only-of-type {\n",
       "        vertical-align: middle;\n",
       "    }\n",
       "\n",
       "    .dataframe tbody tr th {\n",
       "        vertical-align: top;\n",
       "    }\n",
       "\n",
       "    .dataframe thead th {\n",
       "        text-align: right;\n",
       "    }\n",
       "</style>\n",
       "<table border=\"1\" class=\"dataframe\">\n",
       "  <thead>\n",
       "    <tr style=\"text-align: right;\">\n",
       "      <th></th>\n",
       "      <th>Indicator</th>\n",
       "      <th>RegionID</th>\n",
       "      <th>Date</th>\n",
       "      <th>Year</th>\n",
       "      <th>Home_value</th>\n",
       "      <th>Mongo_ID</th>\n",
       "      <th>City_Name</th>\n",
       "      <th>City_Size</th>\n",
       "    </tr>\n",
       "  </thead>\n",
       "  <tbody>\n",
       "    <tr>\n",
       "      <th>0</th>\n",
       "      <td>ZATT</td>\n",
       "      <td>42415</td>\n",
       "      <td>1/31/2021</td>\n",
       "      <td>2021</td>\n",
       "      <td>334409</td>\n",
       "      <td>60403049bff9453704dc7595</td>\n",
       "      <td>Waterloo, IA</td>\n",
       "      <td>Medium</td>\n",
       "    </tr>\n",
       "    <tr>\n",
       "      <th>1</th>\n",
       "      <td>ZATT</td>\n",
       "      <td>42415</td>\n",
       "      <td>12/31/2020</td>\n",
       "      <td>2020</td>\n",
       "      <td>332905</td>\n",
       "      <td>60403049bff9453704dc7596</td>\n",
       "      <td>Waterloo, IA</td>\n",
       "      <td>Medium</td>\n",
       "    </tr>\n",
       "    <tr>\n",
       "      <th>2</th>\n",
       "      <td>ZATT</td>\n",
       "      <td>42415</td>\n",
       "      <td>11/30/2020</td>\n",
       "      <td>2020</td>\n",
       "      <td>331546</td>\n",
       "      <td>60403049bff9453704dc7597</td>\n",
       "      <td>Waterloo, IA</td>\n",
       "      <td>Medium</td>\n",
       "    </tr>\n",
       "    <tr>\n",
       "      <th>3</th>\n",
       "      <td>ZATT</td>\n",
       "      <td>42415</td>\n",
       "      <td>10/31/2020</td>\n",
       "      <td>2020</td>\n",
       "      <td>334579</td>\n",
       "      <td>60403049bff9453704dc7598</td>\n",
       "      <td>Waterloo, IA</td>\n",
       "      <td>Medium</td>\n",
       "    </tr>\n",
       "    <tr>\n",
       "      <th>4</th>\n",
       "      <td>ZATT</td>\n",
       "      <td>42415</td>\n",
       "      <td>9/30/2020</td>\n",
       "      <td>2020</td>\n",
       "      <td>336513</td>\n",
       "      <td>60403049bff9453704dc7599</td>\n",
       "      <td>Waterloo, IA</td>\n",
       "      <td>Medium</td>\n",
       "    </tr>\n",
       "    <tr>\n",
       "      <th>...</th>\n",
       "      <td>...</td>\n",
       "      <td>...</td>\n",
       "      <td>...</td>\n",
       "      <td>...</td>\n",
       "      <td>...</td>\n",
       "      <td>...</td>\n",
       "      <td>...</td>\n",
       "      <td>...</td>\n",
       "    </tr>\n",
       "    <tr>\n",
       "      <th>2860</th>\n",
       "      <td>ZATT</td>\n",
       "      <td>394692</td>\n",
       "      <td>5/31/1996</td>\n",
       "      <td>1996</td>\n",
       "      <td>203496</td>\n",
       "      <td>60403609bff9453704dd3fdc</td>\n",
       "      <td>Houston, TX</td>\n",
       "      <td>Big</td>\n",
       "    </tr>\n",
       "    <tr>\n",
       "      <th>2861</th>\n",
       "      <td>ZATT</td>\n",
       "      <td>394692</td>\n",
       "      <td>4/30/1996</td>\n",
       "      <td>1996</td>\n",
       "      <td>203364</td>\n",
       "      <td>60403609bff9453704dd3fdd</td>\n",
       "      <td>Houston, TX</td>\n",
       "      <td>Big</td>\n",
       "    </tr>\n",
       "    <tr>\n",
       "      <th>2862</th>\n",
       "      <td>ZATT</td>\n",
       "      <td>394692</td>\n",
       "      <td>3/31/1996</td>\n",
       "      <td>1996</td>\n",
       "      <td>203177</td>\n",
       "      <td>60403609bff9453704dd3fde</td>\n",
       "      <td>Houston, TX</td>\n",
       "      <td>Big</td>\n",
       "    </tr>\n",
       "    <tr>\n",
       "      <th>2863</th>\n",
       "      <td>ZATT</td>\n",
       "      <td>394692</td>\n",
       "      <td>2/29/1996</td>\n",
       "      <td>1996</td>\n",
       "      <td>203184</td>\n",
       "      <td>60403609bff9453704dd3fdf</td>\n",
       "      <td>Houston, TX</td>\n",
       "      <td>Big</td>\n",
       "    </tr>\n",
       "    <tr>\n",
       "      <th>2864</th>\n",
       "      <td>ZATT</td>\n",
       "      <td>394692</td>\n",
       "      <td>1/31/1996</td>\n",
       "      <td>1996</td>\n",
       "      <td>203086</td>\n",
       "      <td>60403609bff9453704dd3fe0</td>\n",
       "      <td>Houston, TX</td>\n",
       "      <td>Big</td>\n",
       "    </tr>\n",
       "  </tbody>\n",
       "</table>\n",
       "<p>2865 rows × 8 columns</p>\n",
       "</div>"
      ],
      "text/plain": [
       "     Indicator  RegionID        Date  Year  Home_value  \\\n",
       "0         ZATT     42415   1/31/2021  2021      334409   \n",
       "1         ZATT     42415  12/31/2020  2020      332905   \n",
       "2         ZATT     42415  11/30/2020  2020      331546   \n",
       "3         ZATT     42415  10/31/2020  2020      334579   \n",
       "4         ZATT     42415   9/30/2020  2020      336513   \n",
       "...        ...       ...         ...   ...         ...   \n",
       "2860      ZATT    394692   5/31/1996  1996      203496   \n",
       "2861      ZATT    394692   4/30/1996  1996      203364   \n",
       "2862      ZATT    394692   3/31/1996  1996      203177   \n",
       "2863      ZATT    394692   2/29/1996  1996      203184   \n",
       "2864      ZATT    394692   1/31/1996  1996      203086   \n",
       "\n",
       "                      Mongo_ID     City_Name City_Size  \n",
       "0     60403049bff9453704dc7595  Waterloo, IA    Medium  \n",
       "1     60403049bff9453704dc7596  Waterloo, IA    Medium  \n",
       "2     60403049bff9453704dc7597  Waterloo, IA    Medium  \n",
       "3     60403049bff9453704dc7598  Waterloo, IA    Medium  \n",
       "4     60403049bff9453704dc7599  Waterloo, IA    Medium  \n",
       "...                        ...           ...       ...  \n",
       "2860  60403609bff9453704dd3fdc   Houston, TX       Big  \n",
       "2861  60403609bff9453704dd3fdd   Houston, TX       Big  \n",
       "2862  60403609bff9453704dd3fde   Houston, TX       Big  \n",
       "2863  60403609bff9453704dd3fdf   Houston, TX       Big  \n",
       "2864  60403609bff9453704dd3fe0   Houston, TX       Big  \n",
       "\n",
       "[2865 rows x 8 columns]"
      ]
     },
     "execution_count": 52,
     "metadata": {},
     "output_type": "execute_result"
    }
   ],
   "source": [
    "Housing_data=pd.read_csv('HOUSING_DATA.csv')\n",
    "Housing_data\n"
   ]
  },
  {
   "cell_type": "code",
   "execution_count": 107,
   "metadata": {},
   "outputs": [
    {
     "name": "stdout",
     "output_type": "stream",
     "text": [
      "Shape:  (2865, 1) (2865, 1)\n",
      "Housing R2 Score: 0.12598729182437673\n"
     ]
    },
    {
     "data": {
      "image/png": "[encoded data removed]",
      "text/plain": [
       "<Figure size 432x288 with 1 Axes>"
      ]
     },
     "metadata": {
      "needs_background": "light"
     },
     "output_type": "display_data"
    }
   ],
   "source": [
    "###  ALL ten cities=  Statistics\n",
    "\n",
    "X = Housing_data['Year'].values.reshape(-1,1)\n",
    "y= Housing_data['Home_value'].values.reshape(-1,1)\n",
    "print(\"Shape: \", X.shape, y.shape)\n",
    "plt.scatter(X,y, s=0.75)\n",
    "plt.xlabel(\"Year\")\n",
    "plt.ylabel(\"Home Value\")\n",
    "Housingmodel=LinearRegression()\n",
    "Housingmodel.fit(X,y)\n",
    "Housingscore=Housingmodel.score(X,y)\n",
    "print(f\"Housing R2 Score: {Housingscore}\")"
   ]
  },
  {
   "cell_type": "code",
   "execution_count": null,
   "metadata": {},
   "outputs": [],
   "source": [
    "###  our story:  based on individual city charts above, we expect to see that larger cities will have higher variability\n",
    "### in th\n"
   ]
  },
  {
   "cell_type": "code",
   "execution_count": 53,
   "metadata": {},
   "outputs": [],
   "source": [
    "### CREATE separate dataframes per city\n",
    "\n",
    "Houston = Housing_data.loc[Housing_data['City_Name']=='Houston, TX']\n",
    "\n",
    "Boston = Housing_data.loc[Housing_data['City_Name']=='Boston, MA']\n",
    "\n",
    "Waterloo = Housing_data.loc[Housing_data['City_Name']=='Waterloo, IA']\n",
    "\n",
    "SantaFe = Housing_data.loc[Housing_data['City_Name']=='Santa Fe, NM']\n",
    "\n",
    "StAugustine = Housing_data.loc[Housing_data['City_Name']=='St. Augustine, FL']\n",
    "\n",
    "Williamsburg = Housing_data.loc[Housing_data['City_Name']=='Williamsburg, VA']\n",
    "\n",
    "Portland = Housing_data.loc[Housing_data['City_Name']=='Portland, WA']\n",
    "\n",
    "Cookeville = Housing_data.loc[Housing_data['City_Name']=='Cookeville, TN']\n",
    "\n",
    "Charlotte = Housing_data.loc[Housing_data['City_Name']=='Charlotte, NC']\n",
    "\n",
    "Chicago = Housing_data.loc[Housing_data['City_Name']=='Chicago, IL']\n"
   ]
  },
  {
   "cell_type": "code",
   "execution_count": 110,
   "metadata": {},
   "outputs": [
    {
     "name": "stdout",
     "output_type": "stream",
     "text": [
      "Shape:  (301, 1) (301, 1)\n",
      "Houston R2 Score: 0.9024825813106777\n"
     ]
    },
    {
     "data": {
      "image/png": "[encoded data removed]",
      "text/plain": [
       "<Figure size 432x288 with 1 Axes>"
      ]
     },
     "metadata": {
      "needs_background": "light"
     },
     "output_type": "display_data"
    }
   ],
   "source": [
    "###  HOUSTON\n",
    "\n",
    "X = Houston['Year'].values.reshape(-1,1)\n",
    "y= Houston['Home_value'].values.reshape(-1,1)\n",
    "print(\"Shape: \", X.shape, y.shape)\n",
    "\n",
    "plt.scatter(X,y, s=0.75)\n",
    "plt.xlabel(\"Year\")\n",
    "plt.ylabel(\"Home Value\")\n",
    "\n",
    "Houstonmodel=LinearRegression()\n",
    "Houstonmodel.fit(X,y)\n",
    "Houstonscore=Houstonmodel.score(X,y)\n",
    "print(f\"Houston R2 Score: {Houstonscore}\")"
   ]
  },
  {
   "cell_type": "code",
   "execution_count": 72,
   "metadata": {},
   "outputs": [
    {
     "data": {
      "image/png": "[encoded data removed]",
      "text/plain": [
       "<Figure size 432x288 with 1 Axes>"
      ]
     },
     "metadata": {
      "needs_background": "light"
     },
     "output_type": "display_data"
    }
   ],
   "source": [
    "###  HOUSTON predictions\n",
    "\n",
    "predictions = Houstonmodel.predict(X)\n",
    "\n",
    "#plot residuals\n",
    "plt.scatter(predictions, predictions -y)\n",
    "plt.hlines(y=0, xmin=predictions.min(), xmax=predictions.max())\n",
    "plt.show()"
   ]
  },
  {
   "cell_type": "code",
   "execution_count": 89,
   "metadata": {},
   "outputs": [
    {
     "name": "stdout",
     "output_type": "stream",
     "text": [
      "Shape:  (273, 1) (273, 1)\n",
      "Santa Fe R2 Score: 0.5583904458073568\n"
     ]
    },
    {
     "data": {
      "image/png": "[encoded data removed]",
      "text/plain": [
       "<Figure size 432x288 with 1 Axes>"
      ]
     },
     "metadata": {
      "needs_background": "light"
     },
     "output_type": "display_data"
    }
   ],
   "source": [
    "###  SANTE FE\n",
    "\n",
    "X = SantaFe['Year'].values.reshape(-1,1)\n",
    "y= SantaFe['Home_value'].values.reshape(-1,1)\n",
    "print(\"Shape: \", X.shape, y.shape)\n",
    "plt.scatter(X,y, s=0.75)\n",
    "plt.xlabel(\"Year\")\n",
    "plt.ylabel(\"Home Value\")\n",
    "SantaFemodel=LinearRegression()\n",
    "SantaFemodel.fit(X,y)\n",
    "SantaFescore=SantaFemodel.score(X,y)\n",
    "print(f\"Santa Fe R2 Score: {SantaFescore}\")"
   ]
  },
  {
   "cell_type": "code",
   "execution_count": 90,
   "metadata": {},
   "outputs": [
    {
     "data": {
      "image/png": "[encoded data removed]",
      "text/plain": [
       "<Figure size 432x288 with 1 Axes>"
      ]
     },
     "metadata": {
      "needs_background": "light"
     },
     "output_type": "display_data"
    }
   ],
   "source": [
    "###  SANTE FE predictions\n",
    "\n",
    "predictions = SantaFemodel.predict(X)\n",
    "\n",
    "#plot residuals\n",
    "plt.scatter(predictions, predictions -y)\n",
    "plt.hlines(y=0, xmin=predictions.min(), xmax=predictions.max())\n",
    "plt.show()\n"
   ]
  },
  {
   "cell_type": "code",
   "execution_count": null,
   "metadata": {},
   "outputs": [],
   "source": []
  },
  {
   "cell_type": "code",
   "execution_count": null,
   "metadata": {},
   "outputs": [],
   "source": []
  },
  {
   "cell_type": "code",
   "execution_count": 76,
   "metadata": {},
   "outputs": [],
   "source": [
    "####  STATISTICS RELATED TO CITY SIZE  #########\n",
    "####  Here, we will try to predict range of home values at different price points(ie budgets).  \n",
    "####  what we expect to see:  at thtei higher budgets, the predicted range will be larger, as compared to lower budgets.\n",
    "\n",
    "\n",
    "#BigCities = Housing_data.loc[Housing_data['City_Size']=='Big']\n",
    "#BigCities\n",
    "#MediumCities = Housing_data.loc[Housing_data['City_Size']=='Medium']\n",
    "#MediumCities"
   ]
  },
  {
   "cell_type": "code",
   "execution_count": 100,
   "metadata": {},
   "outputs": [
    {
     "name": "stdout",
     "output_type": "stream",
     "text": [
      "Shape:  (2865, 1) (2865, 1)\n"
     ]
    }
   ],
   "source": [
    "### SPLIT DATA INTO TRAINING AND TESTING  ###\n",
    "\n",
    "X = Housing_data[\"Year\"].values.reshape(-1, 1)\n",
    "y = Housing_data[\"Home_value\"].values.reshape(-1, 1)\n",
    "\n",
    "print(\"Shape: \", X.shape, y.shape)\n",
    "X_train, X_test, y_train, y_test = train_test_split(X, y, random_state=1)\n"
   ]
  },
  {
   "cell_type": "code",
   "execution_count": 101,
   "metadata": {},
   "outputs": [],
   "source": [
    "ALLmodel = LinearRegression()"
   ]
  },
  {
   "cell_type": "code",
   "execution_count": 102,
   "metadata": {},
   "outputs": [
    {
     "data": {
      "text/plain": [
       "LinearRegression()"
      ]
     },
     "execution_count": 102,
     "metadata": {},
     "output_type": "execute_result"
    }
   ],
   "source": [
    "ALLmodel.fit(X_train, y_train)"
   ]
  },
  {
   "cell_type": "code",
   "execution_count": 106,
   "metadata": {},
   "outputs": [
    {
     "name": "stdout",
     "output_type": "stream",
     "text": [
      "Mean Squared Error (MSE): 19955632652.14131\n",
      "R-squared (R2 ): 0.12689204065534165\n"
     ]
    }
   ],
   "source": [
    "predicted = ALLmodel.predict(X_test)\n",
    "\n",
    "# Score the predictions with mse and r2\n",
    "mse = mean_squared_error(y_test, predicted)\n",
    "r2 = r2_score(y_test, predicted)\n",
    "\n",
    "\n",
    "print(f\"Mean Squared Error (MSE): {mse}\")\n",
    "print(f\"R-squared (R2 ): {r2}\")\n",
    "\n",
    "## again, this shows that using various locations for predictions is NOT good"
   ]
  },
  {
   "cell_type": "code",
   "execution_count": null,
   "metadata": {},
   "outputs": [],
   "source": []
  },
  {
   "cell_type": "code",
   "execution_count": null,
   "metadata": {},
   "outputs": [],
   "source": []
  },
  {
   "cell_type": "code",
   "execution_count": null,
   "metadata": {},
   "outputs": [],
   "source": []
  }
 ],
 "metadata": {
  "kernelspec": {
   "display_name": "Python 3",
   "language": "python",
   "name": "python3"
  },
  "language_info": {
   "codemirror_mode": {
    "name": "ipython",
    "version": 3
   },
   "file_extension": ".py",
   "mimetype": "text/x-python",
   "name": "python",
   "nbconvert_exporter": "python",
   "pygments_lexer": "ipython3",
   "version": "3.8.3"
  }
 },
 "nbformat": 4,
 "nbformat_minor": 4
}
